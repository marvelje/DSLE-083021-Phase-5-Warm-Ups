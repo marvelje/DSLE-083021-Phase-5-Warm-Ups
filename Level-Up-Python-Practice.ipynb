{
 "cells": [
  {
   "cell_type": "markdown",
   "metadata": {},
   "source": [
    "# Texas Hold'Em Hands\n",
    "\n",
    "[Source: CodeWars](https://www.codewars.com/kata/524c74f855025e2495000262)\n",
    "\n",
    "Texas Hold'em is a Poker variant in which each player is given two \"hole cards\". Players then proceed to make a series of bets while five \"community cards\" are dealt. If there are more than one player remaining when the betting stops, a showdown takes place in which players reveal their cards. Each player makes the best poker hand possible using five of the seven available cards (community cards + the player's hole cards).\n",
    "\n",
    "Possible hands are, in descending order of value:\n",
    "\n",
    "- `straight-flush` - Five consecutive ranks of the same suit. Higher rank is better.\n",
    "- `four-of-a-kind` - Four cards with the same rank. Tiebreaker is first the rank, then the rank of the remaining card.\n",
    "- `full house` - Three cards with the same rank, two with another. Tiebreaker is first the rank of the three cards, then rank of the pair.\n",
    "- `flush` - Five cards of the same suit. Higher ranks are better, compared from high to low rank.\n",
    "- `straight` - Five consecutive ranks. Higher rank is better.\n",
    "- `three-of-a-kind` - Three cards of the same rank. Tiebreaker is first the rank of the three cards, then the highest other rank, then the second highest other rank.\n",
    "- `two pair` - Two cards of the same rank, two cards of another rank. Tiebreaker is first the rank of the high pair, then the rank of the low pair and then the rank of the remaining card.\n",
    "- `pair` - Two cards of the same rank. Tiebreaker is first the rank of the two cards, then the three other ranks.\n",
    "- `nothing` - Tiebreaker is the rank of the cards from high to low.\n",
    "\n",
    "Given hole cards and community cards, complete the function hand to return the type of hand (as written above, you can ignore case) and a list of ranks in decreasing order of significance, to use for comparison against other hands of the same type, of the best possible hand.\n",
    "\n",
    "Inputs:\n",
    "- Two lists, `hole_cards` with 2 strings representing the player's two cards, and `community_cards` with 5 strings representing the community cards\n",
    "\n",
    "Output:\n",
    "- A tuple, first piece is a string representing the best type of hand (lowercase), second piece is a list of strings showing the relevant card ranks (without suits) in order \n",
    "\n",
    "Examples:\n",
    "\n",
    ">`hand([\"A♠\", \"A♦\"], [\"J♣\", \"5♥\", \"10♥\", \"2♥\", \"3♦\"])`\n",
    ">\n",
    ">Would return `(\"pair\", [\"A\", \"J\", \"10\", \"5\"])`\n",
    "\n",
    ">`hand([\"A♠\", \"K♦\"], [\"J♥\", \"5♥\", \"10♥\", \"Q♥\", \"3♥\"])`\n",
    ">\n",
    ">Would return `(\"flush\", [\"Q\", \"J\", \"10\", \"5\", \"3\"])`\n",
    "\n",
    "Note:\n",
    "- The returned list of strings showing the relevant card ranks should only include the ranks of best five cards without any repeated ranks (aka list output may be fewer than 5 strings)\n",
    "- For Straights with an Ace, only the ace-high straight is accepted. An ace-low straight is invalid (ie. A,2,3,4,5 is invalid)"
   ]
  },
  {
   "cell_type": "code",
   "execution_count": 130,
   "metadata": {},
   "outputs": [],
   "source": [
    "import collections"
   ]
  },
  {
   "cell_type": "code",
   "execution_count": 17,
   "metadata": {},
   "outputs": [],
   "source": [
    "# First example\n",
    "hole_cards = [\"A♠\", \"A♦\"]\n",
    "community_cards = [\"J♣\", \"5♥\", \"10♥\", \"2♥\", \"3♦\"]"
   ]
  },
  {
   "cell_type": "code",
   "execution_count": 241,
   "metadata": {},
   "outputs": [],
   "source": [
    "# Straight flush test\n",
    "\n",
    "hole_cards2 = [\"8♠\", \"6♠\"]\n",
    "community_cards2 = [\"7♠\", \"5♠\", \"9♠\", \"J♠\", \"10♠\"]"
   ]
  },
  {
   "cell_type": "code",
   "execution_count": 242,
   "metadata": {},
   "outputs": [],
   "source": [
    "# Combine hole cards and community cards\n",
    "\n",
    "full_hand = hole_cards2 + community_cards2"
   ]
  },
  {
   "cell_type": "code",
   "execution_count": 243,
   "metadata": {},
   "outputs": [
    {
     "data": {
      "text/plain": [
       "['8♠', '6♠', '7♠', '5♠', '9♠', 'J♠', '10♠']"
      ]
     },
     "execution_count": 243,
     "metadata": {},
     "output_type": "execute_result"
    }
   ],
   "source": [
    "full_hand"
   ]
  },
  {
   "cell_type": "code",
   "execution_count": 244,
   "metadata": {},
   "outputs": [],
   "source": [
    "# Store the card values and the suits separately (preserving the order)\n",
    "\n",
    "card_values = [card[0] if len(card) < 3 else card[0:2] for card in full_hand]\n",
    "suits = [card[-1] for card in full_hand]"
   ]
  },
  {
   "cell_type": "code",
   "execution_count": 245,
   "metadata": {},
   "outputs": [],
   "source": [
    "# Define order of cards dictionary\n",
    "\n",
    "card_order = {'2': 1, '3': 2, '4': 3, '5': 4, '6': 5, '7': 6, '8': 7, '9': 8, '10': 9, 'J': 10, \n",
    "              'Q': 11, 'K': 12, 'A': 13}"
   ]
  },
  {
   "cell_type": "code",
   "execution_count": 246,
   "metadata": {},
   "outputs": [],
   "source": [
    "# Create a list of tuples to store the cards, their suits, and the ranks\n",
    "\n",
    "hand_list = []\n",
    "flush_tracker = []\n",
    "\n",
    "spade_count = 0\n",
    "club_count = 0\n",
    "diamond_count = 0\n",
    "heart_count = 0\n",
    "\n",
    "for i in range(len(full_hand)):\n",
    "    suit = ''\n",
    "    if suits[i] == '♠':\n",
    "        suit = 'spades'\n",
    "        spade_count += 1\n",
    "        if spade_count >= 5:\n",
    "            flush_tracker = tuple(('spades', spade_count))\n",
    "    elif suits[i] == '♣':\n",
    "        suit = 'clubs'\n",
    "        club_count += 1\n",
    "        if club_count >= 5:\n",
    "            flush_tracker = tuple(('clubs', club_count))\n",
    "    elif suits[i] == '♦':\n",
    "        suit = 'diamonds'\n",
    "        diamond_count += 1\n",
    "        if diamond_count >= 5:\n",
    "            flush_tracker = tuple(('diamonds', diamond_count))\n",
    "    else:\n",
    "        suit = 'hearts'\n",
    "        heart_count += 1\n",
    "        if heart_count >= 5:\n",
    "            flush_tracker = tuple(('hearts', heart_count))\n",
    "    \n",
    "    hand_list.append(tuple((card_values[i], suit, card_order[card_values[i]])))"
   ]
  },
  {
   "cell_type": "code",
   "execution_count": 230,
   "metadata": {},
   "outputs": [],
   "source": [
    "# Straight function\n",
    "\n",
    "# Sort values by card order\n",
    "\n",
    "def straight_func(cards):\n",
    "    cards.sort(key = lambda x : (x[2]), reverse=True)\n",
    "    straight = None\n",
    "\n",
    "    for i, card in enumerate(cards):\n",
    "        if i == 3:\n",
    "            break\n",
    "        if ((card[2] - cards[i + 4][2]) == 4) & ((card[2] - cards[i + 3][2]) == 3) & \\\n",
    "           ((card[2] - cards[i + 2][2]) == 2) & ((card[2] - cards[i + 1][2]) == 1):\n",
    "            straight = True\n",
    "    \n",
    "    return straight"
   ]
  },
  {
   "cell_type": "code",
   "execution_count": 189,
   "metadata": {},
   "outputs": [],
   "source": [
    "# Common card function: looks for common cards up through four of a kind\n",
    "\n",
    "def pairs_func(cards):\n",
    "\n",
    "    # Find just the ranks\n",
    "    card_rank_list = [card[2] for card in cards]\n",
    "\n",
    "    # Come up with the frequencies of each card\n",
    "    freq = dict(collections.Counter(card_rank_list))\n",
    "\n",
    "    max1 = max(freq.values())\n",
    "    max1_key = max(freq, key=freq.get)\n",
    " \n",
    "    # iterate through the dictionary\n",
    "    max2 = 0\n",
    "    for k, v in freq.items():\n",
    "        if (v > max2) & (v <= max1) & (k != max1_key):\n",
    "            max2 = v\n",
    "\n",
    "    four_of_a_kind = None\n",
    "    full_house = None\n",
    "    three_of_a_kind = None\n",
    "    two_pair = None\n",
    "    pair = None\n",
    "\n",
    "    if max1 == 4:\n",
    "        four_of_a_kind = True\n",
    "    elif (max1 == 3) & (max2 == 2):\n",
    "        full_house = True\n",
    "    elif max1 == 3:\n",
    "        three_of_a_kind = True\n",
    "    elif (max1 == 2) & (max2 == 2):\n",
    "        two_pair = True\n",
    "    elif (max1 == 2):\n",
    "        pair = True\n",
    "        \n",
    "    return four_of_a_kind, full_house, three_of_a_kind, two_pair, pair"
   ]
  },
  {
   "cell_type": "code",
   "execution_count": 263,
   "metadata": {},
   "outputs": [
    {
     "data": {
      "text/plain": [
       "[('J', 'spades', 10),\n",
       " ('10', 'spades', 9),\n",
       " ('9', 'spades', 8),\n",
       " ('8', 'spades', 7),\n",
       " ('7', 'spades', 6),\n",
       " ('6', 'spades', 5),\n",
       " ('5', 'spades', 4)]"
      ]
     },
     "execution_count": 263,
     "metadata": {},
     "output_type": "execute_result"
    }
   ],
   "source": [
    "hand_list"
   ]
  },
  {
   "cell_type": "code",
   "execution_count": 252,
   "metadata": {},
   "outputs": [
    {
     "data": {
      "text/plain": [
       "[('J', 'spades', 10),\n",
       " ('10', 'spades', 9),\n",
       " ('9', 'spades', 8),\n",
       " ('8', 'spades', 7),\n",
       " ('7', 'spades', 6),\n",
       " ('6', 'spades', 5),\n",
       " ('5', 'spades', 4)]"
      ]
     },
     "execution_count": 252,
     "metadata": {},
     "output_type": "execute_result"
    }
   ],
   "source": [
    "test = hand_list\n",
    "\n",
    "test.sort(key = lambda x : (x[1], x[2]), reverse=True)\n",
    "\n",
    "test"
   ]
  },
  {
   "cell_type": "code",
   "execution_count": 251,
   "metadata": {},
   "outputs": [
    {
     "data": {
      "text/plain": [
       "('spades', 7)"
      ]
     },
     "execution_count": 251,
     "metadata": {},
     "output_type": "execute_result"
    }
   ],
   "source": [
    "flush_tracker"
   ]
  },
  {
   "cell_type": "code",
   "execution_count": 253,
   "metadata": {},
   "outputs": [],
   "source": [
    "# Flush function\n",
    "\n",
    "def flush_func(cards, flush_tracker):\n",
    "\n",
    "    straight_flush = None\n",
    "    flush = None\n",
    "    \n",
    "    cards.sort(key = lambda x : (x[1], x[2]), reverse=True)\n",
    "\n",
    "    if flush_tracker:\n",
    "        flush_list = []\n",
    "        for card in cards:\n",
    "            if card[1] == flush_tracker[0]:\n",
    "                flush_list.append(card[2])\n",
    "            else:\n",
    "                continue\n",
    "    \n",
    "        if flush_list[0] - flush_list[4] == 4:\n",
    "            straight_flush = True\n",
    "    \n",
    "        else:\n",
    "            flush = True\n",
    "        \n",
    "    return straight_flush, flush"
   ]
  },
  {
   "cell_type": "code",
   "execution_count": 254,
   "metadata": {},
   "outputs": [],
   "source": [
    "def hand(hole_cards, community_cards):\n",
    "    \n",
    "    # Instantiate best hand string\n",
    "    best_hand = ''\n",
    "    \n",
    "    # Define order of cards dictionary\n",
    "    card_order = {'2': 1, '3': 2, '4': 3, '5': 4, '6': 5, '7': 6, '8': 7, '9': 8, '10': 9, 'J': 10, \n",
    "                  'Q': 11, 'K': 12, 'A': 13}\n",
    "    \n",
    "    # Combine hole_cards and community cards\n",
    "    full_hand = hole_cards + community_cards\n",
    "    \n",
    "    # Store the card values and the suits separately (preserving the order)\n",
    "    card_values = [card[0] if len(card) < 3 else card[0:2] for card in full_hand]\n",
    "    suits = [card[-1] for card in full_hand]\n",
    "    \n",
    "    # Create a list of tuples to store the cards, their suits, and the ranks\n",
    "    hand_list = []\n",
    "    flush_tracker = []\n",
    "\n",
    "    spade_count = 0\n",
    "    club_count = 0\n",
    "    diamond_count = 0\n",
    "    heart_count = 0\n",
    "\n",
    "    for i in range(len(full_hand)):\n",
    "        suit = ''\n",
    "        if suits[i] == '♠':\n",
    "            suit = 'spades'\n",
    "            spade_count += 1\n",
    "            if spade_count >= 5:\n",
    "                flush_tracker = tuple(('spades', spade_count))\n",
    "        elif suits[i] == '♣':\n",
    "            suit = 'clubs'\n",
    "            club_count += 1\n",
    "            if club_count >= 5:\n",
    "                flush_tracker = tuple(('clubs', club_count))\n",
    "        elif suits[i] == '♦':\n",
    "            suit = 'diamonds'\n",
    "            diamond_count += 1\n",
    "            if diamond_count >= 5:\n",
    "                flush_tracker = tuple(('diamonds', diamond_count))\n",
    "        else:\n",
    "            suit = 'hearts'\n",
    "            heart_count += 1\n",
    "            if heart_count >= 5:\n",
    "                flush_tracker = tuple(('hearts', heart_count))\n",
    "\n",
    "        hand_list.append(tuple((card_values[i], suit, card_order[card_values[i]])))\n",
    "        \n",
    "    straight = straight_func(hand_list)\n",
    "    four_of_a_kind, full_house, three_of_a_kind, two_pair, pair = pairs_func(hand_list)\n",
    "    straight_flush, flush = flush_func(hand_list, flush_tracker)\n",
    "    \n",
    "    if straight_flush:\n",
    "        best_hand = 'straight-flush'\n",
    "    elif four_of_a_kind:\n",
    "        best_hand = 'four-of-a-kind'\n",
    "    elif full_house:\n",
    "        best_hand = 'full-house'\n",
    "    elif flush:\n",
    "        best_hand = 'flush'\n",
    "    elif straight:\n",
    "        best_hand = 'straight'\n",
    "    elif three_of_a_kind:\n",
    "        best_hand = 'three-of-a-kind'\n",
    "    elif two_pair:\n",
    "        best_hand = 'two-pair'\n",
    "    elif pair:\n",
    "        best_hand = 'pair'\n",
    "    else:\n",
    "        best_hand = 'nothing'\n",
    "    \n",
    "    return best_hand"
   ]
  },
  {
   "cell_type": "code",
   "execution_count": 255,
   "metadata": {},
   "outputs": [
    {
     "data": {
      "text/plain": [
       "'pair'"
      ]
     },
     "execution_count": 255,
     "metadata": {},
     "output_type": "execute_result"
    }
   ],
   "source": [
    "# Test 1 - same as first example provided above\n",
    "hand([\"A♠\", \"A♦\"], [\"J♣\", \"5♥\", \"10♥\", \"2♥\", \"3♦\"])\n",
    "# (\"pair\", [\"A\", \"J\", \"10\", \"5\"])"
   ]
  },
  {
   "cell_type": "code",
   "execution_count": 256,
   "metadata": {},
   "outputs": [
    {
     "data": {
      "text/plain": [
       "'flush'"
      ]
     },
     "execution_count": 256,
     "metadata": {},
     "output_type": "execute_result"
    }
   ],
   "source": [
    "# Test 2\n",
    "hand([\"A♠\", \"K♦\"], [\"J♥\", \"5♥\", \"10♥\", \"Q♥\", \"3♥\"])\n",
    "# (\"flush\", [\"Q\", \"J\", \"10\", \"5\", \"3\"])"
   ]
  },
  {
   "cell_type": "code",
   "execution_count": 257,
   "metadata": {},
   "outputs": [
    {
     "data": {
      "text/plain": [
       "'nothing'"
      ]
     },
     "execution_count": 257,
     "metadata": {},
     "output_type": "execute_result"
    }
   ],
   "source": [
    "# Test 3\n",
    "hand([\"K♠\", \"A♦\"], [\"J♣\", \"Q♥\", \"9♥\", \"2♥\", \"3♦\"])\n",
    "# (\"nothing\", [\"A\", \"K\", \"Q\", \"J\", \"9\"])"
   ]
  },
  {
   "cell_type": "code",
   "execution_count": 258,
   "metadata": {},
   "outputs": [
    {
     "data": {
      "text/plain": [
       "'pair'"
      ]
     },
     "execution_count": 258,
     "metadata": {},
     "output_type": "execute_result"
    }
   ],
   "source": [
    "# Test 4\n",
    "hand([\"K♠\", \"Q♦\"], [\"J♣\", \"Q♥\", \"9♥\", \"2♥\", \"3♦\"])\n",
    "# (\"pair\", [\"Q\", \"K\", \"J\", \"9\"])"
   ]
  },
  {
   "cell_type": "code",
   "execution_count": 259,
   "metadata": {},
   "outputs": [
    {
     "data": {
      "text/plain": [
       "'two-pair'"
      ]
     },
     "execution_count": 259,
     "metadata": {},
     "output_type": "execute_result"
    }
   ],
   "source": [
    "# Test 5\n",
    "hand([\"K♠\", \"J♦\"], [\"J♣\", \"K♥\", \"9♥\", \"2♥\", \"3♦\"])\n",
    "# (\"two pair\", [\"K\", \"J\", \"9\"])"
   ]
  },
  {
   "cell_type": "code",
   "execution_count": 260,
   "metadata": {},
   "outputs": [
    {
     "data": {
      "text/plain": [
       "'three-of-a-kind'"
      ]
     },
     "execution_count": 260,
     "metadata": {},
     "output_type": "execute_result"
    }
   ],
   "source": [
    "# Test 6\n",
    "hand([\"4♠\", \"9♦\"], [\"J♣\", \"Q♥\", \"Q♠\", \"2♥\", \"Q♦\"])\n",
    "# (\"three-of-a-kind\", [\"Q\", \"J\", \"9\"])"
   ]
  },
  {
   "cell_type": "code",
   "execution_count": 261,
   "metadata": {},
   "outputs": [
    {
     "data": {
      "text/plain": [
       "'four-of-a-kind'"
      ]
     },
     "execution_count": 261,
     "metadata": {},
     "output_type": "execute_result"
    }
   ],
   "source": [
    "# Test 7\n",
    "hand([\"2♠\", \"3♦\"], [\"2♣\", \"2♥\", \"3♠\", \"3♥\", \"2♦\"])\n",
    "# (\"four-of-a-kind\", [\"2\", \"3\"])"
   ]
  },
  {
   "cell_type": "code",
   "execution_count": 262,
   "metadata": {},
   "outputs": [
    {
     "data": {
      "text/plain": [
       "'straight-flush'"
      ]
     },
     "execution_count": 262,
     "metadata": {},
     "output_type": "execute_result"
    }
   ],
   "source": [
    "# Test 8\n",
    "hand([\"8♠\", \"6♠\"], [\"7♠\", \"5♠\", \"9♠\", \"J♠\", \"10♠\"])\n",
    "# (\"straight-flush\", [\"J\", \"10\", \"9\", \"8\", \"7\"])"
   ]
  }
 ],
 "metadata": {
  "kernelspec": {
   "display_name": "Python (learn-env)",
   "language": "python",
   "name": "learn-env"
  },
  "language_info": {
   "codemirror_mode": {
    "name": "ipython",
    "version": 3
   },
   "file_extension": ".py",
   "mimetype": "text/x-python",
   "name": "python",
   "nbconvert_exporter": "python",
   "pygments_lexer": "ipython3",
   "version": "3.8.5"
  }
 },
 "nbformat": 4,
 "nbformat_minor": 4
}
