{
 "cells": [
  {
   "cell_type": "markdown",
   "metadata": {},
   "source": [
    "\n",
    "## Harry Potter: Sorting Hat\n",
    "\n",
    "[Source: CodeWars](https://www.codewars.com/kata/5abcf0f930488ff1a6000b66/train/sql)\n",
    "\n",
    "There is truly no magic in the world; the Hogwarts Sorting Hat is SQL-based, its decision-making powers are common operators and prospective students are merely data - names, and two columns of qualities.\n",
    "\n",
    "Table Overview: `students`\n",
    "\n",
    "- id\n",
    "- name\n",
    "- quality1\n",
    "- quality2\n",
    "\n",
    "Conditions: \n",
    "\n",
    "- Slytherin are being quite strict this year and will only take students who are 'evil' AND 'cunning'\n",
    "\n",
    "- Gryffindor will take students who are 'brave' but only if their second quality is NOT 'evil'\n",
    "\n",
    "- Ravenclaw accepts students who are 'studious' OR 'intelligent'\n",
    "\n",
    "- Hufflepuff will simply take those who have the quality 'hufflepuff'\n",
    "\n",
    "(don't worry, for simplicity's sake 'brave' and 'studious' will only appear in `quality1`, and 'cunning' and 'intelligent' will only appear in `quality2`.)\n",
    "\n",
    "Return the `id`, `name`, `quality1` and `quality2` of all the students who'll be accepted, ordered by ascending `id`."
   ]
  },
  {
   "cell_type": "markdown",
   "metadata": {},
   "source": [
    "<img src=\"images/HP-sorting-hat.png\" alt=\"sorting hat table screenshot, from codewars\" width=500>"
   ]
  },
  {
   "cell_type": "code",
   "execution_count": null,
   "metadata": {},
   "outputs": [],
   "source": [
    "'''\n",
    "/* Oh you may not think I'm pretty,\n",
    "But don't judge on what you see,\n",
    "I'll eat myself if you can find\n",
    "A smarter hat than me. */\n",
    "\n",
    "\n",
    "'''"
   ]
  }
 ],
 "metadata": {
  "kernelspec": {
   "display_name": "learn-env",
   "language": "python",
   "name": "learn-env"
  },
  "language_info": {
   "codemirror_mode": {
    "name": "ipython",
    "version": 3
   },
   "file_extension": ".py",
   "mimetype": "text/x-python",
   "name": "python",
   "nbconvert_exporter": "python",
   "pygments_lexer": "ipython3",
   "version": "3.8.5"
  }
 },
 "nbformat": 4,
 "nbformat_minor": 4
}
