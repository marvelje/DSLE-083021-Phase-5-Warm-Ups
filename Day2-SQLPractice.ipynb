{
 "cells": [
  {
   "cell_type": "markdown",
   "metadata": {},
   "source": [
    "## Thanksgiving"
   ]
  },
  {
   "cell_type": "markdown",
   "metadata": {},
   "source": [
    "Every year, the American Farm Bureau Federation surveys classic items found on the Thanksgiving Day dinner table to explore how food prices change year over year. You'd like to know which items increased in price the most between 2020 and 2021.\n",
    "\n",
    "Data reference: https://www.fb.org/newsroom/farm-bureau-survey-shows-thanksgiving-dinner-cost-up-14\n",
    "\n",
    "Table Overview: `food_prices`\n",
    "\n",
    "<img src=\"images/thanksgiving_food.png\" alt=\"thanksgiving table overview, made from prices provided by the farm bureau\" width=500>\n",
    "\n",
    "Write a query to output the top three items that have increased the most in price as well as the amount that they have increased by, in columns named `Item` and `Price_Increase`.\n",
    "\n",
    "Desired output:\n",
    "\n",
    "| Item | Price_Increase |\n",
    "| ---- | -------------- |\n",
    "| 16-pound turkey | 4.60 |\n",
    "| Pumpkin pie mix, 30 oz. | .25 |\n",
    "| Milk, 1-gallon whole | .22 |"
   ]
  },
  {
   "cell_type": "code",
   "execution_count": 1,
   "metadata": {
    "scrolled": true
   },
   "outputs": [
    {
     "data": {
      "text/plain": [
       "'\\nSELECT\\n    Item,\\n    (2021_Price - 2020_Price) AS Price_Increase\\nFROM food_prices\\nORDER BY Price_Increase DESC\\nLIMIT 3;\\n'"
      ]
     },
     "execution_count": 1,
     "metadata": {},
     "output_type": "execute_result"
    }
   ],
   "source": [
    "'''\n",
    "SELECT\n",
    "    Item,\n",
    "    (2021_Price - 2020_Price) AS Price_Increase\n",
    "FROM food_prices\n",
    "ORDER BY Price_Increase DESC\n",
    "LIMIT 3;\n",
    "'''"
   ]
  }
 ],
 "metadata": {
  "kernelspec": {
   "display_name": "Python (learn-env)",
   "language": "python",
   "name": "learn-env"
  },
  "language_info": {
   "codemirror_mode": {
    "name": "ipython",
    "version": 3
   },
   "file_extension": ".py",
   "mimetype": "text/x-python",
   "name": "python",
   "nbconvert_exporter": "python",
   "pygments_lexer": "ipython3",
   "version": "3.8.5"
  }
 },
 "nbformat": 4,
 "nbformat_minor": 4
}
