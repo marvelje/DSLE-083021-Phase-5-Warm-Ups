{
 "cells": [
  {
   "cell_type": "markdown",
   "metadata": {},
   "source": [
    "\n",
    "## LEVEL UP!\n",
    "\n",
    "## Actors Cast Together\n",
    "\n",
    "[Source: CodeWars](https://www.codewars.com/kata/5818bde9559ff58bd90004a2)\n",
    "\n",
    "Given the the schema presented below find two actors who are cast together the most, and list titles of only those movies they were cast in together. Order the result set alphabetically by the movie title.\n",
    "\n",
    "Table Overview: `film_actor`\n",
    "- actor_id\n",
    "- film_id\n",
    "\n",
    "Table Overview: `actor`\n",
    "- actor_id\n",
    "- first_name\n",
    "- last_name\n",
    "\n",
    "Table Overview: `film`\n",
    "- film_id\n",
    "- title\n",
    "\n",
    "\n",
    "The desired output:\n",
    "\n",
    "first_actor | second_actor | title\n",
    "------------|--------------|--------------------\n",
    "John Doe    | Jane Doe     | The Best Movie Ever\n",
    "\n",
    "- `first_actor` - Full name (First name + Last name separated by a space)\n",
    "- `second_actor` - Full name (First name + Last name separated by a space)\n",
    "- `title` - Movie title\n",
    "\n",
    "Note: `actor_id` of the first_actor should be lower than `actor_id` of the second_actor"
   ]
  },
  {
   "cell_type": "markdown",
   "metadata": {},
   "source": [
    "`film_actor` Table:\n",
    "<img src=\"images/Movies-film-actor.png\" alt=\"film/actor table screenshot, from codewars\" width=500>\n",
    "\n",
    "`actor` Table:\n",
    "<img src=\"images/Movies-actor.png\" alt=\"actor table screenshot, from codewars\" width=500>\n",
    "\n",
    "`film` Table:\n",
    "<img src=\"images/Movies-film.png\" alt=\"film table screenshot, from codewars\" width=500>\n"
   ]
  },
  {
   "cell_type": "code",
   "execution_count": null,
   "metadata": {},
   "outputs": [],
   "source": [
    "'''\n",
    "\n",
    "\n",
    "'''"
   ]
  }
 ],
 "metadata": {
  "kernelspec": {
   "display_name": "learn-env",
   "language": "python",
   "name": "learn-env"
  },
  "language_info": {
   "codemirror_mode": {
    "name": "ipython",
    "version": 3
   },
   "file_extension": ".py",
   "mimetype": "text/x-python",
   "name": "python",
   "nbconvert_exporter": "python",
   "pygments_lexer": "ipython3",
   "version": "3.8.5"
  }
 },
 "nbformat": 4,
 "nbformat_minor": 4
}
