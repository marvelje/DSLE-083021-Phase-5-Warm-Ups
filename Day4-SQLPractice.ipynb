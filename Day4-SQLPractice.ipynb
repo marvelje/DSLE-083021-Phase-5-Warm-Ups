{
 "cells": [
  {
   "cell_type": "markdown",
   "metadata": {},
   "source": [
    "## LOTR: Elven Wildcards\n",
    "\n",
    "[Source: CodeWars](https://www.codewars.com/kata/5ad90fb688a0b74111000055/train/sql)\n",
    "\n",
    "Deep within the fair realm of Lothlórien, you have been asked to create a shortlist of candidates for a recently vacated position on the council.\n",
    "\n",
    "Of so many worthy elves, who to choose for such a lofty position? After much thought you decide to select candidates by name, which are often closely aligned to an elf's skill and temperament.\n",
    "\n",
    "Choose those with \"tegil\" appearing anywhere in their first name, as they are likely to be good calligraphers, OR those with \"astar\" anywhere in their last name, who will be faithful to the role.\n",
    "\n",
    "Table Overview: `elves`\n",
    "\n",
    "- firstname\n",
    "- lastname\n",
    "\n",
    "Note: all names are in lowercase.\n",
    "\n",
    "To aid the scribes, return the `firstname` and `lastname` column concatenated, separated by a space, into a single `shortlist` column, and capitalise the first letter of each name."
   ]
  },
  {
   "cell_type": "markdown",
   "metadata": {},
   "source": [
    "<img src=\"images/LOTR-elf-names.png\" alt=\"elves table screenshot, from codewars\" width=500>"
   ]
  },
  {
   "cell_type": "code",
   "execution_count": null,
   "metadata": {},
   "outputs": [],
   "source": [
    "'''\n",
    "--but on the land of Lórien no shadow lay--\n",
    "\n",
    "\n",
    "'''"
   ]
  }
 ],
 "metadata": {
  "kernelspec": {
   "display_name": "learn-env",
   "language": "python",
   "name": "learn-env"
  },
  "language_info": {
   "codemirror_mode": {
    "name": "ipython",
    "version": 3
   },
   "file_extension": ".py",
   "mimetype": "text/x-python",
   "name": "python",
   "nbconvert_exporter": "python",
   "pygments_lexer": "ipython3",
   "version": "3.8.5"
  }
 },
 "nbformat": 4,
 "nbformat_minor": 4
}
